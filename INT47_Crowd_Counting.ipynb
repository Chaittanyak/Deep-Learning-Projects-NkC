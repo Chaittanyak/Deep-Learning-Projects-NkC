{
  "nbformat": 4,
  "nbformat_minor": 0,
  "metadata": {
    "colab": {
      "name": "INT47 - Crowd Counting.ipynb",
      "provenance": [],
      "collapsed_sections": [],
      "include_colab_link": true
    },
    "kernelspec": {
      "name": "python3",
      "display_name": "Python 3"
    }
  },
  "cells": [
    {
      "cell_type": "markdown",
      "metadata": {
        "id": "view-in-github",
        "colab_type": "text"
      },
      "source": [
        "<a href=\"https://colab.research.google.com/github/Chaittanyak/Deep-Learning-Projects-NkC/blob/main/INT47_Crowd_Counting.ipynb\" target=\"_parent\"><img src=\"https://colab.research.google.com/assets/colab-badge.svg\" alt=\"Open In Colab\"/></a>"
      ]
    },
    {
      "cell_type": "markdown",
      "metadata": {
        "id": "mNoV9AcMC-94"
      },
      
    },
    {
      "cell_type": "markdown",
      "metadata": {
        "id": "qvH4SjzGEHHe"
      },
      "source": [
        "### Download the code zip file"
      ]
    },
    {
      "cell_type": "code",
      "metadata": {
        "id": "NsGZGGzEEcpv",
        "colab": {
          "base_uri": "https://localhost:8080/"
        },
        "outputId": "97e5f23a-90e7-49a1-b40d-e5895858e047"
      },
      "source": [
        "!!wgethttps://download1078.mediafire.com/l6a7paicyjng/d63526qnbpqnilc/people-counting-opencv.zip\n",
        "!unzip -qq people-counting-opencv.zip\n",
        "%cd people-counting-opencv"
      ],
      "execution_count": 29,
      "outputs": [
        {
          "output_type": "stream",
          "name": "stdout",
          "text": [
            "[people-counting-opencv.zip]\n",
            "  End-of-central-directory signature not found.  Either this file is not\n",
            "  a zipfile, or it constitutes one disk of a multi-part archive.  In the\n",
            "  latter case the central directory and zipfile comment will be found on\n",
            "  the last disk(s) of this archive.\n",
            "unzip:  cannot find zipfile directory in one of people-counting-opencv.zip or\n",
            "        people-counting-opencv.zip.zip, and cannot find people-counting-opencv.zip.ZIP, period.\n",
            "[Errno 2] No such file or directory: 'people-counting-opencv'\n",
            "/content/people-counting-opencv\n"
          ]
        }
      ]
    },
    {
      "cell_type": "markdown",
      "metadata": {
        "id": "6oiTfWIlD4aT"
      },
      "source": [
        "## Blog Post Code"
      ]
    },
    {
      "cell_type": "markdown",
      "metadata": {
        "id": "J6jEQ4PRD9db"
      },
      "source": [
        "### Import Packages"
      ]
    },
    {
      "cell_type": "code",
      "metadata": {
        "id": "WlyzB6CTD3rX"
      },
      "source": [
        "\n",
        "from nkc.centroidtracker import CentroidTracker\n",
        "from nkc.trackableobject import TrackableObject\n",
        "from imutils.video import VideoStream\n",
        "from imutils.video import FPS\n",
        "import numpy as np\n",
        "import imutils\n",
        "import time\n",
        "import dlib\n",
        "import cv2"
      ],
      "execution_count": 37,
      "outputs": []
    },
    {
      "cell_type": "markdown",
      "metadata": {
        "id": "K_pvIdO556Mj"
      },
      "source": [
        "### Implementing our people counter with OpenCV + Python"
      ]
    },
    {
      "cell_type": "code",
      "metadata": {
        "id": "aKrkg_t7EyT1"
      },
      "source": [
        "args = {\n",
        "    \"prototxt\": \"mobilenet_ssd/MobileNetSSD_deploy.prototxt\",\n",
        "    \"model\": \"mobilenet_ssd/MobileNetSSD_deploy.caffemodel\",\n",
        "    \"input\": \"videos/example_01.mp4\",\n",
        "    \"output\": \"output/output_01.avi\",\n",
        "    \"confidence\": 0.4,\n",
        "    \"skip_frames\": 30\n",
        "}"
      ],
      "execution_count": 31,
      "outputs": []
    },
    {
      "cell_type": "code",
      "metadata": {
        "id": "ML6UDB4vFvJs",
        "colab": {
          "base_uri": "https://localhost:8080/"
        },
        "outputId": "652e88bd-3ee6-4580-e083-6afe716543d9"
      },
      "source": [
        "CLASSES = [\"background\", \"aeroplane\", \"bicycle\", \"bird\", \"boat\",\n",
        "\t\"bottle\", \"bus\", \"car\", \"cat\", \"chair\", \"cow\", \"diningtable\",\n",
        "\t\"dog\", \"horse\", \"motorbike\", \"person\", \"pottedplant\", \"sheep\",\n",
        "\t\"sofa\", \"train\", \"tvmonitor\"]\n",
        "print(\"[INFO] loading model...\")\n",
        "net = cv2.dnn.readNetFromCaffe(args[\"prototxt\"], args[\"model\"])"
      ],
      "execution_count": 32,
      "outputs": [
        {
          "output_type": "stream",
          "name": "stdout",
          "text": [
            "[INFO] loading model...\n"
          ]
        }
      ]
    },
    {
      "cell_type": "code",
      "metadata": {
        "id": "1VuLnIdAF6Gw",
        "colab": {
          "base_uri": "https://localhost:8080/"
        },
        "outputId": "9fd3944b-8f09-467a-8685-07230356c21d"
      },
      "source": [
        "print(\"[INFO] opening video file...\")\n",
        "vs = cv2.VideoCapture(args[\"input\"])"
      ],
      "execution_count": 33,
      "outputs": [
        {
          "output_type": "stream",
          "name": "stdout",
          "text": [
            "[INFO] opening video file...\n"
          ]
        }
      ]
    },
    {
      "cell_type": "code",
      "metadata": {
        "id": "fH5savMYGDw-"
      },
      "source": [
        "writer = None\n",
        "W = None\n",
        "H = None\n",
        "t = CentroidTracker(maxDisappeared=40, maxDistance=50)\n",
        "trackers = []\n",
        "trackableObjects = {}\n",
        "totalFrames = 0\n",
        "totalDown = 0\n",
        "totalUp = 0\n",
        "fps = FPS().start()"
      ],
      "execution_count": 34,
      "outputs": []
    },
    {
      "cell_type": "code",
      "metadata": {
        "id": "6msLhX-eGPUw"
      },
      "source": [
        "while True:\n",
        "\n",
        "\tframe = vs.read()\n",
        "\tframe = frame[1] if args.get(\"input\", False) else frame\n",
        "\n",
        "\tif args[\"input\"] is not None and frame is None:\n",
        "\t\tbreak\n",
        "\n",
        "\tframe = imutils.resize(frame, width=500)\n",
        "\trgb = cv2.cvtColor(frame, cv2.COLOR_BGR2RGB)\n",
        "\n",
        "\tif W is None or H is None:\n",
        "\t\t(H, W) = frame.shape[:2]\n",
        "\n",
        "\tif args[\"output\"] is not None and writer is None:\n",
        "\t\tfourcc = cv2.VideoWriter_fourcc(*\"MJPG\")\n",
        "\t\twriter = cv2.VideoWriter(args[\"output\"], fourcc, 30,\n",
        "\t\t\t(W, H), True)\n",
        "\n",
        "\tstatus = \"Waiting\"\n",
        "\trects = []\n",
        "\n",
        "\tif totalFrames % args[\"skip_frames\"] == 0:\n",
        "\t\tstatus = \"Detecting\"\n",
        "\t\ttrackers = []\n",
        "\n",
        "\t\tblob = cv2.dnn.blobFromImage(frame, 0.007843, (W, H), 127.5)\n",
        "\t\tnet.setInput(blob)\n",
        "\t\tdetections = net.forward()\n",
        "\n",
        "\t\tfor i in np.arange(0, detections.shape[2]):\n",
        "\t\t\tconfidence = detections[0, 0, i, 2]\n",
        "\n",
        "\t\t\tif confidence > args[\"confidence\"]:\n",
        "\t\t\t\tidx = int(detections[0, 0, i, 1])\n",
        "\n",
        "\t\t\t\tif CLASSES[idx] != \"person\":\n",
        "\t\t\t\t\tcontinue\n",
        "\n",
        "\t\t\t\tbox = detections[0, 0, i, 3:7] * np.array([W, H, W, H])\n",
        "\t\t\t\t(startX, startY, endX, endY) = box.astype(\"int\")\n",
        "\n",
        "\t\t\t\ttracker = dlib.correlation_tracker()\n",
        "\t\t\t\trect = dlib.rectangle(startX, startY, endX, endY)\n",
        "\t\t\t\ttracker.start_track(rgb, rect)\n",
        "\t\t\t\ttrackers.append(tracker)\n",
        "\n",
        "\telse:\n",
        "\t\tfor tracker in trackers:\n",
        "\t\t\tstatus = \"Tracking\"\n",
        "\n",
        "\t\t\ttracker.update(rgb)\n",
        "\t\t\tpos = tracker.get_position()\n",
        "\n",
        "\t\t\tstartX = int(pos.left())\n",
        "\t\t\tstartY = int(pos.top())\n",
        "\t\t\tendX = int(pos.right())\n",
        "\t\t\tendY = int(pos.bottom())\n",
        "\t\t\trects.append((startX, startY, endX, endY))\n",
        "\n",
        "\tcv2.line(frame, (0, H // 2), (W, H // 2), (0, 255, 255), 2)\n",
        "\n",
        "\tobjects = ct.update(rects)\n",
        "\n",
        "\tfor (objectID, centroid) in objects.items():\n",
        "\t\tto = trackableObjects.get(objectID, None)\n",
        "\n",
        "\t\tif to is None:\n",
        "\t\t\tto = TrackableObject(objectID, centroid)\n",
        "\n",
        "\t\telse:\n",
        "\t\t\ty = [c[1] for c in to.centroids]\n",
        "\t\t\tdirection = centroid[1] - np.mean(y)\n",
        "\t\t\tto.centroids.append(centroid)\n",
        "\n",
        "\t\t\tif not to.counted:\n",
        "\t\t\t\tif direction < 0 and centroid[1] < H // 2:\n",
        "\t\t\t\t\ttotalUp += 1\n",
        "\t\t\t\t\tto.counted = True\n",
        "\n",
        "\t\t\t\telif direction > 0 and centroid[1] > H // 2:\n",
        "\t\t\t\t\ttotalDown += 1\n",
        "\t\t\t\t\tto.counted = True\n",
        "\n",
        "\t\ttrackableObjects[objectID] = to\n",
        "\n",
        "\t\ttext = \"ID {}\".format(objectID)\n",
        "\t\tcv2.putText(frame, text, (centroid[0] - 10, centroid[1] - 10),\n",
        "\t\t\tcv2.FONT_HERSHEY_SIMPLEX, 0.5, (0, 255, 0), 2)\n",
        "\t\tcv2.circle(frame, (centroid[0], centroid[1]), 4, (0, 255, 0), -1)\n",
        "\n",
        "\tinfo = [\n",
        "\t\t(\"Up\", totalUp),\n",
        "\t\t(\"Down\", totalDown),\n",
        "\t\t(\"Status\", status),\n",
        "\t]\n",
        "\n",
        "\tfor (i, (k, v)) in enumerate(info):\n",
        "\t\ttext = \"{}: {}\".format(k, v)\n",
        "\t\tcv2.putText(frame, text, (10, H - ((i * 20) + 20)),\n",
        "\t\t\tcv2.FONT_HERSHEY_SIMPLEX, 0.6, (0, 0, 255), 2)\n",
        "\n",
        "\tif writer is not None:\n",
        "\t\twriter.write(frame)\n",
        "\n",
        "\ttotalFrames += 1\n",
        "\tfps.update()"
      ],
      "execution_count": null,
      "outputs": []
    },
    {
      "cell_type": "code",
      "metadata": {
        "id": "HMmmVYUDGkby",
        "colab": {
          "base_uri": "https://localhost:8080/"
        },
        "outputId": "da8af69c-f166-46c0-b8c4-ef3d6f5ee381"
      },
      "source": [
        "fps.stop()\n",
        "print(\"[INFO] elapsed time: {:.2f}\".format(fps.elapsed()))\n",
        "print(\"[INFO] approx. FPS: {:.2f}\".format(fps.fps()))\n",
        "\n",
        "if writer is not None:\n",
        "\twriter.release()\n",
        "vs.release()"
      ],
      "execution_count": 39,
      "outputs": [
        {
          "output_type": "stream",
          "name": "stdout",
          "text": [
            "[INFO] elapsed time: 166.17\n",
            "[INFO] approx. FPS: 7.72\n"
          ]
        }
      ]
    },
    {
      "cell_type": "code",
      "metadata": {
        "id": "lhYbtMwnHTp-",
        "colab": {
          "base_uri": "https://localhost:8080/"
        },
        "outputId": "f2d6d70a-6faa-41d6-f5a9-4c720c2d727c"
      },
      "source": [
        "!ffmpeg -i output/output_01.avi output.mp4"
      ],
      "execution_count": null,
      "outputs": [
        {
          "output_type": "stream",
          "name": "stdout",
          "text": [
            "ffmpeg version 3.4.8-0ubuntu0.2 Copyright (c) 2000-2020 the FFmpeg developers\n",
            "  built with gcc 7 (Ubuntu 7.5.0-3ubuntu1~18.04)\n",
            "  configuration: --prefix=/usr --extra-version=0ubuntu0.2 --toolchain=hardened --libdir=/usr/lib/x86_64-linux-gnu --incdir=/usr/include/x86_64-linux-gnu --enable-gpl --disable-stripping --enable-avresample --enable-avisynth --enable-gnutls --enable-ladspa --enable-libass --enable-libbluray --enable-libbs2b --enable-libcaca --enable-libcdio --enable-libflite --enable-libfontconfig --enable-libfreetype --enable-libfribidi --enable-libgme --enable-libgsm --enable-libmp3lame --enable-libmysofa --enable-libopenjpeg --enable-libopenmpt --enable-libopus --enable-libpulse --enable-librubberband --enable-librsvg --enable-libshine --enable-libsnappy --enable-libsoxr --enable-libspeex --enable-libssh --enable-libtheora --enable-libtwolame --enable-libvorbis --enable-libvpx --enable-libwavpack --enable-libwebp --enable-libx265 --enable-libxml2 --enable-libxvid --enable-libzmq --enable-libzvbi --enable-omx --enable-openal --enable-opengl --enable-sdl2 --enable-libdc1394 --enable-libdrm --enable-libiec61883 --enable-chromaprint --enable-frei0r --enable-libopencv --enable-libx264 --enable-shared\n",
            "  libavutil      55. 78.100 / 55. 78.100\n",
            "  libavcodec     57.107.100 / 57.107.100\n",
            "  libavformat    57. 83.100 / 57. 83.100\n",
            "  libavdevice    57. 10.100 / 57. 10.100\n",
            "  libavfilter     6.107.100 /  6.107.100\n",
            "  libavresample   3.  7.  0 /  3.  7.  0\n",
            "  libswscale      4.  8.100 /  4.  8.100\n",
            "  libswresample   2.  9.100 /  2.  9.100\n",
            "  libpostproc    54.  7.100 / 54.  7.100\n",
            "Input #0, avi, from 'output/output_01.avi':\n",
            "  Metadata:\n",
            "    encoder         : Lavf58.35.100\n",
            "  Duration: 00:00:42.77, start: 0.000000, bitrate: 5392 kb/s\n",
            "    Stream #0:0: Video: mjpeg (MJPG / 0x47504A4D), yuvj420p(pc, bt470bg/unknown/unknown), 500x372, 5389 kb/s, 30 fps, 30 tbr, 30 tbn, 30 tbc\n",
            "File 'output.mp4' already exists. Overwrite ? [y/N] "
          ]
        }
      ]
    },
    {
      "cell_type": "code",
      "metadata": {
        "id": "UJCPzNUbHk8n",
        "cellView": "form"
      },
      "source": [
        "#@title Display video inline\n",
        "from IPython.display import HTML\n",
        "from base64 import b64encode\n",
        "\n",
        "mp4 = open(\"output.mp4\", \"rb\").read()\n",
        "dataURL = \"data:video/mp4;base64,\" + b64encode(mp4).decode()\n",
        "HTML(\"\"\"\n",
        "<video width=400 controls>\n",
        "      <source src=\"%s\" type=\"video/mp4\">\n",
        "</video>\n",
        "\"\"\" % dataURL)"
      ],
      "execution_count": null,
      "outputs": []
    }
  ]
}
